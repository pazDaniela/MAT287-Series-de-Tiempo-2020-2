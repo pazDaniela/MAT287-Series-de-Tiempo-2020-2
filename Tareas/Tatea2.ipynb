{
 "cells": [
  {
   "cell_type": "markdown",
   "metadata": {},
   "source": [
    "# Tarea 2"
   ]
  },
  {
   "cell_type": "markdown",
   "metadata": {},
   "source": [
    "Daniela Paz Díaz Mora\n",
    "\n",
    "201710003-6"
   ]
  },
  {
   "cell_type": "code",
   "execution_count": 1,
   "metadata": {},
   "outputs": [],
   "source": [
    "import numpy as np\n",
    "\n",
    "from sympy import Matrix\n",
    "from sympy.abc import x, y\n",
    "from numpy import linalg"
   ]
  },
  {
   "cell_type": "markdown",
   "metadata": {},
   "source": [
    "### Problema 1\n",
    "# 2.4 Lutkepohl"
   ]
  },
  {
   "cell_type": "markdown",
   "metadata": {},
   "source": [
    "#### Determine the autocovariances $\\Gamma_y(0)$, $\\Gamma_y(1)$, $\\Gamma_y(2)$, $\\Gamma_y(3)$ of the process (2.4.1). Compute an plot the autocorrelations $R_y(0)$,$R_y(1)$,$R_y(2)$,$R_y(3)$."
   ]
  },
  {
   "cell_type": "markdown",
   "metadata": {},
   "source": [
    "Para calcular $\\Gamma_y(0)$ se tiene que $Vec(\\Gamma(0))=(I_{k^2}-A_1\\otimes A_1)^{-1}Vec(\\Sigma_u)$"
   ]
  },
  {
   "cell_type": "code",
   "execution_count": 2,
   "metadata": {},
   "outputs": [],
   "source": [
    "#vectorización de una matriz de mxn\n",
    "def Vec(M):\n",
    "    aux=[]\n",
    "    (a,b)=M.shape\n",
    "    for i in np.arange(b):\n",
    "        for j in np.arange(a):\n",
    "            aux.append(M[j,i])\n",
    "    return np.array(aux).T"
   ]
  },
  {
   "cell_type": "code",
   "execution_count": 3,
   "metadata": {},
   "outputs": [],
   "source": [
    "Sigma_u=np.array([[0.26,0.03,0],[0.03,0.09,0],[0,0,0.81]])\n",
    "vec_sigma=Vec(Sigma_u)\n",
    "A1=np.array([[0.7,0.1,0],[0,0.4,0.1],[0.9,0,0.8]])\n",
    "vec_gamma_0=np.dot(np.linalg.inv(np.eye(9)-np.kron(A1,A1)),vec_sigma)\n",
    "#desvectorizacion\n",
    "Gamma_0=vec_gamma_0.reshape(3,3).T"
   ]
  },
  {
   "cell_type": "code",
   "execution_count": 4,
   "metadata": {},
   "outputs": [
    {
     "data": {
      "text/latex": [
       "$\\displaystyle \\left[\\begin{matrix}0.564403943690934 & 0.176906937783372 & 1.05195079079148\\\\0.176906937783372 & 0.307903999270431 & 1.14202798778072\\\\1.05195079079148 & 1.14202798778072 & 7.72771203647051\\end{matrix}\\right]$"
      ],
      "text/plain": [
       "Matrix([\n",
       "[0.564403943690934, 0.176906937783372, 1.05195079079148],\n",
       "[0.176906937783372, 0.307903999270431, 1.14202798778072],\n",
       "[ 1.05195079079148,  1.14202798778072, 7.72771203647051]])"
      ]
     },
     "execution_count": 4,
     "metadata": {},
     "output_type": "execute_result"
    }
   ],
   "source": [
    "Matrix(Gamma_0)"
   ]
  },
  {
   "cell_type": "markdown",
   "metadata": {},
   "source": [
    "Luego $\\Gamma(h)=A_1\\Gamma_y(h-1)$"
   ]
  },
  {
   "cell_type": "code",
   "execution_count": 5,
   "metadata": {},
   "outputs": [
    {
     "data": {
      "text/latex": [
       "$\\displaystyle \\left[\\begin{matrix}0.412773454361991 & 0.154625256375403 & 0.850568352332105\\\\0.175957854192496 & 0.237364398486244 & 1.22958239875934\\\\1.34952418195502 & 1.07283863422961 & 7.12892534088874\\end{matrix}\\right]$"
      ],
      "text/plain": [
       "Matrix([\n",
       "[0.412773454361991, 0.154625256375403, 0.850568352332105],\n",
       "[0.175957854192496, 0.237364398486244,  1.22958239875934],\n",
       "[ 1.34952418195502,  1.07283863422961,  7.12892534088874]])"
      ]
     },
     "execution_count": 5,
     "metadata": {},
     "output_type": "execute_result"
    }
   ],
   "source": [
    "Gamma_1=np.dot(A1,Gamma_0)\n",
    "Matrix(Gamma_1)"
   ]
  },
  {
   "cell_type": "code",
   "execution_count": 6,
   "metadata": {},
   "outputs": [
    {
     "data": {
      "text/latex": [
       "$\\displaystyle \\left[\\begin{matrix}0.306537203472643 & 0.131974119311407 & 0.718356086508407\\\\0.205335559872501 & 0.202229622817459 & 1.20472549359261\\\\1.45111545448981 & 0.99743363812155 & 6.46865178980988\\end{matrix}\\right]$"
      ],
      "text/plain": [
       "Matrix([\n",
       "[0.306537203472643, 0.131974119311407, 0.718356086508407],\n",
       "[0.205335559872501, 0.202229622817459,  1.20472549359261],\n",
       "[ 1.45111545448981,  0.99743363812155,  6.46865178980988]])"
      ]
     },
     "execution_count": 6,
     "metadata": {},
     "output_type": "execute_result"
    }
   ],
   "source": [
    "Gamma_2=np.dot(A1,Gamma_1)\n",
    "Matrix(Gamma_2)"
   ]
  },
  {
   "cell_type": "code",
   "execution_count": 7,
   "metadata": {},
   "outputs": [
    {
     "data": {
      "text/latex": [
       "$\\displaystyle \\left[\\begin{matrix}0.2351095984181 & 0.112604845799731 & 0.623321809915146\\\\0.227245769397981 & 0.180635212939138 & 1.12875537641803\\\\1.43677584671723 & 0.916723617877506 & 5.82144190970547\\end{matrix}\\right]$"
      ],
      "text/plain": [
       "Matrix([\n",
       "[  0.2351095984181, 0.112604845799731, 0.623321809915146],\n",
       "[0.227245769397981, 0.180635212939138,  1.12875537641803],\n",
       "[ 1.43677584671723, 0.916723617877506,  5.82144190970547]])"
      ]
     },
     "execution_count": 7,
     "metadata": {},
     "output_type": "execute_result"
    }
   ],
   "source": [
    "Gamma_3=np.dot(A1,Gamma_2)\n",
    "Matrix(Gamma_3)"
   ]
  },
  {
   "cell_type": "markdown",
   "metadata": {},
   "source": [
    "Se tine que para calcular las autocorrelaciones se hace mediante\n",
    "\n",
    "$R_y(h)=D^{-1}\\Gamma_y(h) D^{-1}$"
   ]
  },
  {
   "cell_type": "code",
   "execution_count": 8,
   "metadata": {},
   "outputs": [
    {
     "data": {
      "text/latex": [
       "$\\displaystyle \\left[\\begin{matrix}1.0 & 0.424367562556585 & 0.503703466234757\\\\0.424367562556585 & 1.0 & 0.740361143062004\\\\0.503703466234757 & 0.740361143062004 & 1.0\\end{matrix}\\right]$"
      ],
      "text/plain": [
       "Matrix([\n",
       "[              1.0, 0.424367562556585, 0.503703466234757],\n",
       "[0.424367562556585,               1.0, 0.740361143062004],\n",
       "[0.503703466234757, 0.740361143062004,               1.0]])"
      ]
     },
     "execution_count": 8,
     "metadata": {},
     "output_type": "execute_result"
    }
   ],
   "source": [
    "D_inv=np.diag(1/np.sqrt(np.diag(Gamma_0)))\n",
    "R0=np.dot(np.dot(D_inv,Gamma_0),D_inv)\n",
    "Matrix(R0)"
   ]
  },
  {
   "cell_type": "code",
   "execution_count": 9,
   "metadata": {},
   "outputs": [
    {
     "data": {
      "text/latex": [
       "$\\displaystyle \\left[\\begin{matrix}0.731344029353602 & 0.37091786212516 & 0.407275921164448\\\\0.42209088367011 & 0.770903915014652 & 0.797121471605457\\\\0.646189930335929 & 0.695506630360993 & 0.922514362238677\\end{matrix}\\right]$"
      ],
      "text/plain": [
       "Matrix([\n",
       "[0.731344029353602,  0.37091786212516, 0.407275921164448],\n",
       "[ 0.42209088367011, 0.770903915014652, 0.797121471605457],\n",
       "[0.646189930335929, 0.695506630360993, 0.922514362238677]])"
      ]
     },
     "execution_count": 9,
     "metadata": {},
     "output_type": "execute_result"
    }
   ],
   "source": [
    "R1=np.dot(np.dot(D_inv,Gamma_1),D_inv)\n",
    "Matrix(R1)"
   ]
  },
  {
   "cell_type": "code",
   "execution_count": 10,
   "metadata": {},
   "outputs": [
    {
     "data": {
      "text/latex": [
       "$\\displaystyle \\left[\\begin{matrix}0.54311669310465 & 0.316581904782695 & 0.343968989740363\\\\0.492562655490582 & 0.656794401166062 & 0.78100707955979\\\\0.694834673571943 & 0.64662260150314 & 0.837072054352108\\end{matrix}\\right]$"
      ],
      "text/plain": [
       "Matrix([\n",
       "[ 0.54311669310465, 0.316581904782695, 0.343968989740363],\n",
       "[0.492562655490582, 0.656794401166062,  0.78100707955979],\n",
       "[0.694834673571943,  0.64662260150314, 0.837072054352108]])"
      ]
     },
     "execution_count": 10,
     "metadata": {},
     "output_type": "execute_result"
    }
   ],
   "source": [
    "R2=np.dot(np.dot(D_inv,Gamma_2),D_inv)\n",
    "Matrix(R2)"
   ]
  },
  {
   "cell_type": "code",
   "execution_count": 11,
   "metadata": {},
   "outputs": [
    {
     "data": {
      "text/latex": [
       "$\\displaystyle \\left[\\begin{matrix}0.416562642848658 & 0.27011854109762 & 0.298463919588629\\\\0.545121262450462 & 0.58666082079852 & 0.731756690434717\\\\0.687968468229711 & 0.594299397970662 & 0.753320243072141\\end{matrix}\\right]$"
      ],
      "text/plain": [
       "Matrix([\n",
       "[0.416562642848658,  0.27011854109762, 0.298463919588629],\n",
       "[0.545121262450462,  0.58666082079852, 0.731756690434717],\n",
       "[0.687968468229711, 0.594299397970662, 0.753320243072141]])"
      ]
     },
     "execution_count": 11,
     "metadata": {},
     "output_type": "execute_result"
    }
   ],
   "source": [
    "R3=np.dot(np.dot(D_inv,Gamma_3),D_inv)\n",
    "Matrix(R3)"
   ]
  },
  {
   "cell_type": "code",
   "execution_count": 12,
   "metadata": {},
   "outputs": [],
   "source": [
    "import matplotlib.pyplot as plt"
   ]
  },
  {
   "cell_type": "code",
   "execution_count": 13,
   "metadata": {},
   "outputs": [
    {
     "data": {
      "text/plain": [
       "array([[1.        , 0.42436756, 0.50370347],\n",
       "       [0.42436756, 1.        , 0.74036114],\n",
       "       [0.50370347, 0.74036114, 1.        ]])"
      ]
     },
     "execution_count": 13,
     "metadata": {},
     "output_type": "execute_result"
    }
   ],
   "source": [
    "R0"
   ]
  },
  {
   "cell_type": "code",
   "execution_count": 14,
   "metadata": {},
   "outputs": [
    {
     "data": {
      "image/png": "[encoded data removed]",
      "text/plain": [
       "<Figure size 1080x1080 with 9 Axes>"
      ]
     },
     "metadata": {
      "needs_background": "light"
     },
     "output_type": "display_data"
    }
   ],
   "source": [
    "fig, axs = plt.subplots(3, 3,figsize=(15,15))\n",
    "x=[0,1,2,3]\n",
    "axs[0,0].plot(x,[R0[0,0],R1[0,0],R2[0,0],R3[0,0]],marker='o')\n",
    "axs[0,0].set_title('componente [1,1]')\n",
    "axs[0,0].set_xlabel('h')\n",
    "axs[0,0].set_ylabel('R(h)[1,1]')\n",
    "axs[0,1].plot(x,[R0[0,1],R1[0,1],R2[0,1],R3[0,1]],marker='o')\n",
    "axs[0,1].set_title('componente [1,2]')\n",
    "axs[0,1].set_xlabel('h')\n",
    "axs[0,1].set_ylabel('R(h)[1,1]')\n",
    "axs[0,2].plot(x,[R0[0,2],R1[0,2],R2[0,2],R3[0,2]],marker='o')\n",
    "axs[0,2].set_title('componente [1,3]')\n",
    "axs[0,2].set_xlabel('h')\n",
    "axs[0,2].set_ylabel('R(h)[1,3]')\n",
    "axs[1,0].plot(x,[R0[1,0],R1[1,0],R2[1,0],R3[1,0]],marker='o')\n",
    "axs[1,0].set_title('componente [2,1]')\n",
    "axs[1,0].set_xlabel('h')\n",
    "axs[1,0].set_ylabel('R(h)[2,1]')\n",
    "axs[1,1].plot(x,[R0[1,1],R1[1,1],R2[1,1],R3[1,1]],marker='o')\n",
    "axs[1,1].set_title('componente [2,2]')\n",
    "axs[1,1].set_xlabel('h')\n",
    "axs[1,1].set_ylabel('R(h)[2,2]')\n",
    "axs[1,2].plot(x,[R0[1,2],R1[1,2],R2[1,2],R3[1,2]],marker='o')\n",
    "axs[1,2].set_title('componente [2,3]')\n",
    "axs[1,2].set_xlabel('h')\n",
    "axs[1,2].set_ylabel('R(h)[2,3]')\n",
    "axs[2,0].plot(x,[R0[2,0],R1[2,0],R2[2,0],R3[2,0]],marker='o')\n",
    "axs[2,0].set_title('componente [3,1]')\n",
    "axs[2,0].set_xlabel('h')\n",
    "axs[2,0].set_ylabel('R(h)[3,1]')\n",
    "axs[2,1].plot(x,[R0[2,1],R1[2,1],R2[2,1],R3[2,1]],marker='o')\n",
    "axs[2,1].set_title('componente [3,2]')\n",
    "axs[2,1].set_xlabel('h')\n",
    "axs[2,1].set_ylabel('R(h)[3,2]')\n",
    "axs[2,2].plot(x,[R0[2,2],R1[2,2],R2[2,2],R3[2,2]],marker='o')\n",
    "axs[2,2].set_title('componente [3,3]')\n",
    "axs[2,2].set_xlabel('h')\n",
    "axs[2,2].set_ylabel('R(h)[3,3]')\n",
    "plt.show()"
   ]
  },
  {
   "cell_type": "markdown",
   "metadata": {},
   "source": [
    "### Problema 2\n",
    "# Problema 2.5 Lutkepohl"
   ]
  },
  {
   "cell_type": "markdown",
   "metadata": {},
   "source": [
    "### Consider again the process  (2.4.1)\n",
    "\n",
    "### a)  Suppose that $y_{2000}=[0.7 \\quad 1\\quad 1.5]^T$ y $Y_{1999}=[1\\quad 1.5\\quad 3]^T$ and forecast $y_{2001}$,$y_{2002}$,$y_{2003}$\n"
   ]
  },
  {
   "cell_type": "code",
   "execution_count": 15,
   "metadata": {},
   "outputs": [],
   "source": [
    "from rpy2.robjects import r"
   ]
  },
  {
   "cell_type": "code",
   "execution_count": 16,
   "metadata": {},
   "outputs": [
    {
     "data": {
      "text/html": [
       "\n",
       "        <span>FloatMatrix with 15 elements.</span>\n",
       "        <table>\n",
       "        <tbody>\n",
       "          <tr>\n",
       "          \n",
       "            <td>\n",
       "            1.148095\n",
       "            </td>\n",
       "          \n",
       "            <td>\n",
       "            -0.991160\n",
       "            </td>\n",
       "          \n",
       "            <td>\n",
       "            -0.040938\n",
       "            </td>\n",
       "          \n",
       "            <td>\n",
       "            ...\n",
       "            </td>\n",
       "          \n",
       "            <td>\n",
       "            0.645486\n",
       "            </td>\n",
       "          \n",
       "            <td>\n",
       "            0.735373\n",
       "            </td>\n",
       "          \n",
       "            <td>\n",
       "            -0.524594\n",
       "            </td>\n",
       "          \n",
       "          </tr>\n",
       "        </tbody>\n",
       "        </table>\n",
       "        "
      ],
      "text/plain": [
       "R object with classes: ('matrix',) mapped to:\n",
       "[1.148095, -0.991160, -0.040938, 1.117348, ..., 1.126900, 0.645486, 0.735373, -0.524594]"
      ]
     },
     "execution_count": 16,
     "metadata": {},
     "output_type": "execute_result"
    }
   ],
   "source": [
    "r('library(MASS)')\n",
    "r('MASS::mvrnorm(n=5, mu = c(0,0,0), Sigma = diag(3))')"
   ]
  },
  {
   "cell_type": "code",
   "execution_count": 17,
   "metadata": {},
   "outputs": [],
   "source": [
    "#Creo el vector de errores de distibucion N(0,sigma)\n",
    "def U(s1,s2,s3):\n",
    "    u1=np.random.normal(0,np.sqrt(s1))\n",
    "    u2=np.random.normal(0,np.sqrt(s2))\n",
    "    u3=np.random.normal(0,np.sqrt(s3))\n",
    "    return np.array([u1,u2,u2,0,0,0,]).T"
   ]
  },
  {
   "cell_type": "code",
   "execution_count": 18,
   "metadata": {},
   "outputs": [],
   "source": [
    "A=[[]]\n",
    "Y_t=np.array([0.7, 1,1.5,1,1.5,3]).T"
   ]
  },
  {
   "cell_type": "code",
   "execution_count": 19,
   "metadata": {},
   "outputs": [],
   "source": [
    "def Y_th(A,Y,h):\n",
    "    sum=0\n",
    "    for i in np.arange(h):\n",
    "        if i==0:\n",
    "            sum+= np.dot(np.eye(6),U(Sigma_u[0,0],Sigma_u[1,1],Sigma_u[2,2]))\n",
    "        else:\n",
    "            sum+=  np.dot(np.linalg.matrix_power(A, i),U(Sigma_u[0,0],Sigma_u[1,1],Sigma_u[2,2]))\n",
    "    return sum+np.dot(np.linalg.matrix_power(A, h),Y)"
   ]
  },
  {
   "cell_type": "code",
   "execution_count": 20,
   "metadata": {},
   "outputs": [],
   "source": [
    "y1999=np.array([1,1.5,3]).T\n",
    "y2000=np.array([0.7,1,1.5]).T\n",
    "A=np.array([[0.7,.1,0,-0.2,0,0],[0,.4,.1,0,.1,.1],[.9,0,.8,0,0,0],[1,0,0,0,0,0],[0,1,0,0,0,0],[0,0,1,0,0,0]])\n",
    "V=np.array([2,1,0,0,0,0]).T\n",
    "A2=np.array([[-.2,0,0],[0,0.1,0.1],[0,0,0]])"
   ]
  },
  {
   "cell_type": "code",
   "execution_count": 21,
   "metadata": {},
   "outputs": [
    {
     "data": {
      "text/latex": [
       "$\\displaystyle \\left[\\begin{matrix}-0.2 & 0.0 & 0.0\\\\0.0 & 0.1 & 0.1\\\\0.0 & 0.0 & 0.0\\end{matrix}\\right]$"
      ],
      "text/plain": [
       "Matrix([\n",
       "[-0.2, 0.0, 0.0],\n",
       "[ 0.0, 0.1, 0.1],\n",
       "[ 0.0, 0.0, 0.0]])"
      ]
     },
     "execution_count": 21,
     "metadata": {},
     "output_type": "execute_result"
    }
   ],
   "source": [
    "Matrix(A2)"
   ]
  },
  {
   "cell_type": "code",
   "execution_count": 22,
   "metadata": {},
   "outputs": [
    {
     "data": {
      "text/plain": [
       "array([ 6.875 , 14.375 , 30.9375])"
      ]
     },
     "execution_count": 22,
     "metadata": {},
     "output_type": "execute_result"
    }
   ],
   "source": [
    "Mu = np.dot(np.linalg.inv(np.eye(6)-A),V)\n",
    "J = np.block([np.eye(3),np.zeros((3,3))])\n",
    "v_medias= np.dot(J,Mu)\n",
    "v_medias"
   ]
  },
  {
   "cell_type": "code",
   "execution_count": 23,
   "metadata": {},
   "outputs": [],
   "source": [
    "z1999 = y1999-v_medias\n",
    "z2000 = y2000-v_medias\n",
    "z2001 = np.dot(A1,z2000)+np.dot(A2,z1999)\n",
    "z2002 = np.dot(A1,z2001)+np.dot(A2,z2000)\n",
    "z2003 = np.dot(A1,z2002)+np.dot(A2,z2001)\n",
    "y2001 = z2001 + v_medias\n",
    "y2002 = z2002 + v_medias\n",
    "y2003 = z2003 + v_medias"
   ]
  },
  {
   "cell_type": "code",
   "execution_count": 24,
   "metadata": {},
   "outputs": [
    {
     "data": {
      "text/latex": [
       "$\\displaystyle \\left[\\begin{matrix}2.39\\\\2.0\\\\1.83\\end{matrix}\\right]$"
      ],
      "text/plain": [
       "Matrix([\n",
       "[2.39],\n",
       "[ 2.0],\n",
       "[1.83]])"
      ]
     },
     "execution_count": 24,
     "metadata": {},
     "output_type": "execute_result"
    }
   ],
   "source": [
    "Matrix(y2001)"
   ]
  },
  {
   "cell_type": "code",
   "execution_count": 25,
   "metadata": {},
   "outputs": [
    {
     "data": {
      "text/latex": [
       "$\\displaystyle \\left[\\begin{matrix}3.733\\\\2.233\\\\3.615\\end{matrix}\\right]$"
      ],
      "text/plain": [
       "Matrix([\n",
       "[3.733],\n",
       "[2.233],\n",
       "[3.615]])"
      ]
     },
     "execution_count": 25,
     "metadata": {},
     "output_type": "execute_result"
    }
   ],
   "source": [
    "Matrix(y2002)"
   ]
  },
  {
   "cell_type": "code",
   "execution_count": 26,
   "metadata": {},
   "outputs": [
    {
     "data": {
      "text/latex": [
       "$\\displaystyle \\left[\\begin{matrix}4.3584\\\\2.6377\\\\6.2517\\end{matrix}\\right]$"
      ],
      "text/plain": [
       "Matrix([\n",
       "[4.3584],\n",
       "[2.6377],\n",
       "[6.2517]])"
      ]
     },
     "execution_count": 26,
     "metadata": {},
     "output_type": "execute_result"
    }
   ],
   "source": [
    "Matrix(y2003)"
   ]
  },
  {
   "cell_type": "markdown",
   "metadata": {},
   "source": [
    "### (b) Determine the MSE matrices for forecast horizons h = 1, 2, 3."
   ]
  },
  {
   "cell_type": "code",
   "execution_count": 27,
   "metadata": {},
   "outputs": [],
   "source": [
    "def phi_i(i):\n",
    "    return np.dot(np.dot(J,np.linalg.matrix_power(A,i)),J.T)"
   ]
  },
  {
   "cell_type": "code",
   "execution_count": 28,
   "metadata": {},
   "outputs": [
    {
     "data": {
      "text/latex": [
       "$\\displaystyle \\left[\\begin{matrix}0.26 & 0.03 & 0.0\\\\0.03 & 0.09 & 0.0\\\\0.0 & 0.0 & 0.81\\end{matrix}\\right]$"
      ],
      "text/plain": [
       "Matrix([\n",
       "[0.26, 0.03,  0.0],\n",
       "[0.03, 0.09,  0.0],\n",
       "[ 0.0,  0.0, 0.81]])"
      ]
     },
     "execution_count": 28,
     "metadata": {},
     "output_type": "execute_result"
    }
   ],
   "source": [
    "MSE_1=np.dot(np.dot(phi_i(0),Sigma_u),phi_i(0).T)\n",
    "Matrix(MSE_1)"
   ]
  },
  {
   "cell_type": "code",
   "execution_count": 29,
   "metadata": {},
   "outputs": [
    {
     "data": {
      "text/latex": [
       "$\\displaystyle \\left[\\begin{matrix}0.3925 & 0.042 & 0.1665\\\\0.042 & 0.1125 & 0.0756\\\\0.1665 & 0.0756 & 1.539\\end{matrix}\\right]$"
      ],
      "text/plain": [
       "Matrix([\n",
       "[0.3925,  0.042, 0.1665],\n",
       "[ 0.042, 0.1125, 0.0756],\n",
       "[0.1665, 0.0756,  1.539]])"
      ]
     },
     "execution_count": 29,
     "metadata": {},
     "output_type": "execute_result"
    }
   ],
   "source": [
    "MSE_2=MSE_1+np.dot(np.dot(phi_i(1),Sigma_u),phi_i(1).T)\n",
    "Matrix(MSE_2)"
   ]
  },
  {
   "cell_type": "code",
   "execution_count": 30,
   "metadata": {},
   "outputs": [
    {
     "data": {
      "text/latex": [
       "$\\displaystyle \\left[\\begin{matrix}0.41745 & 0.055701 & 0.279603\\\\0.055701 & 0.161298 & 0.234117\\\\0.279603 & 0.234117 & 2.352645\\end{matrix}\\right]$"
      ],
      "text/plain": [
       "Matrix([\n",
       "[ 0.41745, 0.055701, 0.279603],\n",
       "[0.055701, 0.161298, 0.234117],\n",
       "[0.279603, 0.234117, 2.352645]])"
      ]
     },
     "execution_count": 30,
     "metadata": {},
     "output_type": "execute_result"
    }
   ],
   "source": [
    "MSE_3=MSE_2+np.dot(np.dot(phi_i(2),Sigma_u),phi_i(2).T)\n",
    "Matrix(MSE_3)"
   ]
  },
  {
   "cell_type": "markdown",
   "metadata": {},
   "source": [
    "###  c) Assume that y t is a Gaussian process and construct 90% and 95% forecast intervals for t = 2001, 2002, 2003."
   ]
  },
  {
   "cell_type": "code",
   "execution_count": 31,
   "metadata": {},
   "outputs": [],
   "source": [
    "import scipy.stats "
   ]
  },
  {
   "cell_type": "code",
   "execution_count": 45,
   "metadata": {},
   "outputs": [
    {
     "name": "stdout",
     "output_type": "stream",
     "text": [
      "El intervalo de confianza del 90% para y 2001 _ 1 es de ( 2.3259 , 2.4541 )\n",
      "El intervalo de confianza del 90% para y 2001 _ 1 es de ( 1.9623 , 2.0377 )\n",
      "El intervalo de confianza del 90% para y 2001 _ 1 es de ( 1.7169 , 1.9431 )\n",
      "El intervalo de confianza del 90% para y 2002 _ 2 es de ( 3.6543 , 3.8117 )\n",
      "El intervalo de confianza del 90% para y 2002 _ 2 es de ( 2.1909 , 2.2751 )\n",
      "El intervalo de confianza del 90% para y 2002 _ 2 es de ( 3.4591 , 3.7709 )\n",
      "El intervalo de confianza del 90% para y 2003 _ 3 es de ( 4.2772 , 4.4396 )\n",
      "El intervalo de confianza del 90% para y 2003 _ 3 es de ( 2.5872 , 2.6882 )\n",
      "El intervalo de confianza del 90% para y 2003 _ 3 es de ( 6.059 , 6.4444 )\n"
     ]
    }
   ],
   "source": [
    "#90%\n",
    "aux_y=[y2001,y2002,y2003]\n",
    "aux_mse=[MSE_1,MSE_2,MSE_3]\n",
    "zaph=scipy.stats.norm.ppf(1-0.9/2)\n",
    "for i in np.arange(3):\n",
    "    for j in np.arange(3):\n",
    "        lim_inf=round(aux_y[i][j]-zaph*np.sqrt(aux_mse[i][j,j]),4)\n",
    "        lim_sup=round(aux_y[i][j]+zaph*np.sqrt(aux_mse[i][j,j]),4)\n",
    "        print('El intervalo de confianza del 90% para y',2001+i,'_',i+1,'es de (',lim_inf,',',lim_sup,')')"
   ]
  },
  {
   "cell_type": "code",
   "execution_count": 47,
   "metadata": {},
   "outputs": [
    {
     "name": "stdout",
     "output_type": "stream",
     "text": [
      "El intervalo de confianza del 95% para y 2001 _ 1 es de ( 2.358 , 2.422 )\n",
      "El intervalo de confianza del 95% para y 2001 _ 1 es de ( 1.9812 , 2.0188 )\n",
      "El intervalo de confianza del 95% para y 2001 _ 1 es de ( 1.7736 , 1.8864 )\n",
      "El intervalo de confianza del 95% para y 2002 _ 2 es de ( 3.6937 , 3.7723 )\n",
      "El intervalo de confianza del 95% para y 2002 _ 2 es de ( 2.212 , 2.254 )\n",
      "El intervalo de confianza del 95% para y 2002 _ 2 es de ( 3.5372 , 3.6928 )\n",
      "El intervalo de confianza del 95% para y 2003 _ 3 es de ( 4.3179 , 4.3989 )\n",
      "El intervalo de confianza del 95% para y 2003 _ 3 es de ( 2.6125 , 2.6629 )\n",
      "El intervalo de confianza del 95% para y 2003 _ 3 es de ( 6.1555 , 6.3479 )\n"
     ]
    }
   ],
   "source": [
    "#95%\n",
    "aux_y=[y2001,y2002,y2003]\n",
    "aux_mse=[MSE_1,MSE_2,MSE_3]\n",
    "zaph=scipy.stats.norm.ppf(1-0.95/2)\n",
    "for i in np.arange(3):\n",
    "    for j in np.arange(3):\n",
    "        lim_inf=round(aux_y[i][j]-zaph*np.sqrt(aux_mse[i][j,j]),4)\n",
    "        lim_sup=round(aux_y[i][j]+zaph*np.sqrt(aux_mse[i][j,j]),4)\n",
    "        print('El intervalo de confianza del 95% para y',2001+i,'_',i+1,'es de (',lim_inf,',',lim_sup,')')"
   ]
  },
  {
   "cell_type": "markdown",
   "metadata": {},
   "source": [
    "### d) Use the Bonferroni method to determine a joint forecast region for GNP 2001 , GNP 2002 , GNP 2003 with probability content at least 97%."
   ]
  },
  {
   "cell_type": "code",
   "execution_count": 49,
   "metadata": {},
   "outputs": [
    {
     "name": "stdout",
     "output_type": "stream",
     "text": [
      "GNP_ 2001 con 99% de confianza es ( 2.358 , 2.422 )\n",
      "GNP_ 2002 con 99% de confianza es ( 3.6937 , 3.7723 )\n",
      "GNP_ 2003 con 99% de confianza es ( 4.3179 , 4.3989 )\n"
     ]
    }
   ],
   "source": [
    "zaph_d=scipy.stats.norm.ppf(1-0.99/2)\n",
    "for i in np.arange(3):\n",
    "    lim_inf=round(aux_y[i][0]-zaph*np.sqrt(aux_mse[i][0,0]),4)\n",
    "    lim_sup=round(aux_y[i][0]+zaph*np.sqrt(aux_mse[i][0,0]),4)\n",
    "    print('GNP_',2001+i,'con 99% de confianza es (',lim_inf,',',lim_sup,')')"
   ]
  }
 ],
 "metadata": {
  "kernelspec": {
   "display_name": "Python 3",
   "language": "python",
   "name": "python3"
  },
  "language_info": {
   "codemirror_mode": {
    "name": "ipython",
    "version": 3
   },
   "file_extension": ".py",
   "mimetype": "text/x-python",
   "name": "python",
   "nbconvert_exporter": "python",
   "pygments_lexer": "ipython3",
   "version": "3.7.6"
  }
 },
 "nbformat": 4,
 "nbformat_minor": 4
}
