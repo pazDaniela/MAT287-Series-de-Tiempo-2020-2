{
 "cells": [
  {
   "cell_type": "markdown",
   "metadata": {},
   "source": [
    "# Tarea 1"
   ]
  },
  {
   "cell_type": "markdown",
   "metadata": {},
   "source": [
    "Daniela Paz Díaz Mora\n",
    "\n",
    "201710003-6"
   ]
  },
  {
   "cell_type": "code",
   "execution_count": 1,
   "metadata": {},
   "outputs": [],
   "source": [
    "import numpy as np\n",
    "\n",
    "from sympy import Matrix\n",
    "from sympy.abc import x, y\n",
    "from numpy import linalg"
   ]
  },
  {
   "cell_type": "markdown",
   "metadata": {},
   "source": [
    "## (a)"
   ]
  },
  {
   "cell_type": "markdown",
   "metadata": {},
   "source": [
    "Se tiene que el polinomio caracteristico quedra en función de la matriz A dada por"
   ]
  },
  {
   "cell_type": "code",
   "execution_count": 2,
   "metadata": {},
   "outputs": [
    {
     "data": {
      "text/latex": [
       "$\\displaystyle 1.0 x^{6} - 1.9 x^{5} + 1.26 x^{4} - 0.323 x^{3} - 0.021 x^{2} + 0.016 x + 2.49366499671666 \\cdot 10^{-18}$"
      ],
      "text/plain": [
       "1.0*x**6 - 1.9*x**5 + 1.26*x**4 - 0.323*x**3 - 0.021*x**2 + 0.016*x + 2.49366499671666e-18"
      ]
     },
     "execution_count": 2,
     "metadata": {},
     "output_type": "execute_result"
    }
   ],
   "source": [
    "A=Matrix([[0.7,0.1,0,-0.2,0,0],[0,0.4,0.1,0,0.1,0.1],[0.9,0,0.8,0,0,0],[1,0,0,0,0,0],[0,1,0,0,0,0],[0,0,1,0,0,0]])\n",
    "A.charpoly(x).as_expr()"
   ]
  },
  {
   "cell_type": "code",
   "execution_count": 3,
   "metadata": {},
   "outputs": [
    {
     "data": {
      "text/plain": [
       "array([-5.58083612+0.j        ,  2.89366753+0.j        ,\n",
       "        1.45032672+1.19082258j,  1.45032672-1.19082258j,\n",
       "        1.09901515+0.j        ])"
      ]
     },
     "execution_count": 3,
     "metadata": {},
     "output_type": "execute_result"
    }
   ],
   "source": [
    "coeff=[1,-1.9,1.26,-0.323,-0.021,0.016,0]\n",
    "coeff.reverse()\n",
    "np.roots(coeff)"
   ]
  },
  {
   "cell_type": "markdown",
   "metadata": {},
   "source": [
    "## (b)"
   ]
  },
  {
   "cell_type": "code",
   "execution_count": 4,
   "metadata": {},
   "outputs": [],
   "source": [
    "Aux_matrix=np.matrix(np.eye(6)-np.array(A), dtype='float')"
   ]
  },
  {
   "cell_type": "code",
   "execution_count": 5,
   "metadata": {},
   "outputs": [],
   "source": [
    "inv=np.linalg.inv(Aux_matrix)\n",
    "psi=np.matrix([[2],[1],[0],[0],[0],[0]],dtype='float')\n",
    "factor=np.dot(inv,psi)\n",
    "J=np.matrix([[1,0,0,0,0,0],[0,1,0,0,0,0],[0,0,1,0,0,0]],dtype='float')\n",
    "vector_medias=np.dot(J,factor)"
   ]
  },
  {
   "cell_type": "code",
   "execution_count": 6,
   "metadata": {},
   "outputs": [
    {
     "data": {
      "text/latex": [
       "$\\displaystyle \\left[\\begin{matrix}6.875\\\\14.375\\\\30.9375\\end{matrix}\\right]$"
      ],
      "text/plain": [
       "Matrix([\n",
       "[  6.875],\n",
       "[ 14.375],\n",
       "[30.9375]])"
      ]
     },
     "execution_count": 6,
     "metadata": {},
     "output_type": "execute_result"
    }
   ],
   "source": [
    "Matrix(vector_medias)"
   ]
  },
  {
   "cell_type": "markdown",
   "metadata": {},
   "source": [
    "## (d)"
   ]
  },
  {
   "cell_type": "code",
   "execution_count": 7,
   "metadata": {},
   "outputs": [],
   "source": [
    "def an(array,n):\n",
    "    (f,c)=array.shape\n",
    "    if n==0:\n",
    "        return np.eye(f)\n",
    "    elif n==1:\n",
    "        return array\n",
    "    else:\n",
    "        matrix=np.dot(array,an(array,n-1))\n",
    "        return matrix"
   ]
  },
  {
   "cell_type": "code",
   "execution_count": 8,
   "metadata": {},
   "outputs": [
    {
     "data": {
      "text/plain": [
       "(6, 6)"
      ]
     },
     "execution_count": 8,
     "metadata": {},
     "output_type": "execute_result"
    }
   ],
   "source": [
    "A=np.array(A,dtype='float')\n",
    "A.shape"
   ]
  },
  {
   "cell_type": "code",
   "execution_count": 9,
   "metadata": {},
   "outputs": [
    {
     "name": "stdout",
     "output_type": "stream",
     "text": [
      "phi_ 1 = \n",
      " [[0.7 0.1 0. ]\n",
      " [0.  0.4 0.1]\n",
      " [0.9 0.  0.8]]\n",
      "phi_ 2 = \n",
      " [[0.29 0.11 0.01]\n",
      " [0.09 0.26 0.22]\n",
      " [1.35 0.09 0.64]]\n",
      "phi_ 3 = \n",
      " [[0.072 0.083 0.029]\n",
      " [0.261 0.153 0.242]\n",
      " [1.341 0.171 0.521]]\n",
      "phi_ 4 = \n",
      " [[0.0185 0.0514 0.0425]\n",
      " [0.3825 0.1133 0.2349]\n",
      " [1.1376 0.2115 0.4429]]\n",
      "phi_ 5 = \n",
      " [[0.0368  0.03071 0.04744]\n",
      " [0.42696 0.09887 0.21455]\n",
      " [0.92673 0.21546 0.39257]]\n"
     ]
    }
   ],
   "source": [
    "i=1\n",
    "while i != 6:\n",
    "    print('phi_',i, '= \\n', np.dot(np.dot(J,an(A,i)),np.transpose(J)))\n",
    "    i+=1"
   ]
  }
 ],
 "metadata": {
  "kernelspec": {
   "display_name": "Python 3",
   "language": "python",
   "name": "python3"
  },
  "language_info": {
   "codemirror_mode": {
    "name": "ipython",
    "version": 3
   },
   "file_extension": ".py",
   "mimetype": "text/x-python",
   "name": "python",
   "nbconvert_exporter": "python",
   "pygments_lexer": "ipython3",
   "version": "3.7.6"
  }
 },
 "nbformat": 4,
 "nbformat_minor": 4
}
